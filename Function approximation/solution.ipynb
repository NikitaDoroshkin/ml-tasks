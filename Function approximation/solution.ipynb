{
 "cells": [
  {
   "cell_type": "code",
   "execution_count": 44,
   "metadata": {},
   "outputs": [],
   "source": [
    "import math\n",
    "import numpy as np\n",
    "import matplotlib.pyplot as plt"
   ]
  },
  {
   "cell_type": "code",
   "execution_count": 45,
   "metadata": {},
   "outputs": [],
   "source": [
    "# Define function to approximate\n",
    "def f(x):\n",
    "    return math.sin(x/5) * math.exp(x/10) + 5*math.exp(-x/2)"
   ]
  },
  {
   "cell_type": "code",
   "execution_count": 46,
   "metadata": {},
   "outputs": [],
   "source": [
    "# Define polynomial function \n",
    "def poly_func(x, coef_list):\n",
    "    y = 0\n",
    "    for i in range(len(coef_list)):\n",
    "        y += coef_list[i] * x**i\n",
    "    return y\n",
    "\n",
    "# Define plot helper to check results of approximation\n",
    "def plot_poly(coef_list):\n",
    "    x = np.arange(1,15,0.1)\n",
    "    y = [poly_func(arg, coef_list) for arg in x]\n",
    "    plt.plot(x,y)"
   ]
  },
  {
   "cell_type": "code",
   "execution_count": 47,
   "metadata": {},
   "outputs": [],
   "source": [
    "import scipy.linalg as linalg\n",
    "\n",
    "# Define function which approximates f(x) in given points\n",
    "def approximate(pts):\n",
    "    A = []\n",
    "    b = []\n",
    "    for i in range(len(pts)):\n",
    "        row = [pts[i]**pow for pow in range(len(pts))]\n",
    "        A.append(row)\n",
    "        b.append(f(pts[i]))\n",
    "    print A\n",
    "    print b\n",
    "    return linalg.solve(A,b)"
   ]
  },
  {
   "cell_type": "code",
   "execution_count": 49,
   "metadata": {},
   "outputs": [
    {
     "name": "stdout",
     "output_type": "stream",
     "text": [
      "[[1.0, 1.0, 1.0, 1.0], [1.0, 4.0, 16.0, 64.0], [1.0, 10.0, 100.0, 1000.0], [1.0, 15.0, 225.0, 3375.0]]\n",
      "[3.252216865271419, 1.7468459495903677, 2.5054164070002463, 0.6352214195786656]\n",
      "[ 4.36264154 -1.29552587  0.19333685 -0.00823565]\n"
     ]
    },
    {
     "data": {
      "image/png": "[encoded data removed]",
      "text/plain": [
       "<Figure size 432x288 with 1 Axes>"
      ]
     },
     "metadata": {
      "needs_background": "light"
     },
     "output_type": "display_data"
    }
   ],
   "source": [
    "# Approximate function in different x and check result\n",
    "coefs = approximate([1.,4.,10.,15.])\n",
    "print coefs\n",
    "plot_poly(coefs)"
   ]
  }
 ],
 "metadata": {
  "kernelspec": {
   "display_name": "Python 2",
   "language": "python",
   "name": "python2"
  },
  "language_info": {
   "codemirror_mode": {
    "name": "ipython",
    "version": 2
   },
   "file_extension": ".py",
   "mimetype": "text/x-python",
   "name": "python",
   "nbconvert_exporter": "python",
   "pygments_lexer": "ipython2",
   "version": "2.7.15"
  }
 },
 "nbformat": 4,
 "nbformat_minor": 2
}
