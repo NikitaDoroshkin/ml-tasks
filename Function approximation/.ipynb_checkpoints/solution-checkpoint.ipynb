{
 "cells": [
  {
   "cell_type": "code",
   "execution_count": 25,
   "metadata": {},
   "outputs": [],
   "source": [
    "import math\n",
    "import numpy as np\n",
    "import matplotlib.pyplot as plt"
   ]
  },
  {
   "cell_type": "code",
   "execution_count": 26,
   "metadata": {},
   "outputs": [],
   "source": [
    "# Define function to approximate\n",
    "def f(x):\n",
    "    return math.sin(x / 5) * math.exp(x / 10) + 5 * math.exp(-x / 2)"
   ]
  },
  {
   "cell_type": "code",
   "execution_count": 27,
   "metadata": {},
   "outputs": [],
   "source": [
    "# Define polynomial function \n",
    "def poly_func(x, coef_list):\n",
    "    y = 0\n",
    "    for i in range(len(coef_list)):\n",
    "        y += coef_list[i] * x**i\n",
    "    return y\n",
    "\n",
    "# Define plot helper to check results of approximation\n",
    "def plot_poly(coef_list):\n",
    "    x = np.arange(1,15,0.1)\n",
    "    y = [poly_func(arg, coef_list) for arg in x]\n",
    "    plt.plot(x,y)"
   ]
  },
  {
   "cell_type": "code",
   "execution_count": 28,
   "metadata": {},
   "outputs": [],
   "source": [
    "import scipy.linalg as linalg\n",
    "\n",
    "# Define function which approximates f(x) in given points\n",
    "def approximate(pts):\n",
    "    A = []\n",
    "    b = []\n",
    "    for i in range(len(pts)):\n",
    "        row = [pts[i]**pow for pow in range(len(pts))]\n",
    "        A.append(row)\n",
    "        b.append(f(pts[i]))\n",
    "    return linalg.solve(A,b)"
   ]
  },
  {
   "cell_type": "code",
   "execution_count": 40,
   "metadata": {},
   "outputs": [
    {
     "name": "stdout",
     "output_type": "stream",
     "text": [
      "[ 2.94378905 -1.32450651  0.2303422  -0.01022753]\n"
     ]
    },
    {
     "data": {
      "image/png": "[encoded data removed]",
      "text/plain": [
       "<Figure size 432x288 with 1 Axes>"
      ]
     },
     "metadata": {
      "needs_background": "light"
     },
     "output_type": "display_data"
    }
   ],
   "source": [
    "# Approximate function in different x and check result\n",
    "coefs = approximate([1,4,10,15])\n",
    "print coefs\n",
    "plot_poly(coefs)"
   ]
  }
 ],
 "metadata": {
  "kernelspec": {
   "display_name": "Python 2",
   "language": "python",
   "name": "python2"
  },
  "language_info": {
   "codemirror_mode": {
    "name": "ipython",
    "version": 2
   },
   "file_extension": ".py",
   "mimetype": "text/x-python",
   "name": "python",
   "nbconvert_exporter": "python",
   "pygments_lexer": "ipython2",
   "version": "2.7.15"
  }
 },
 "nbformat": 4,
 "nbformat_minor": 2
}
