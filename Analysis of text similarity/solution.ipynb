{
 "cells": [
  {
   "cell_type": "code",
   "execution_count": 29,
   "metadata": {},
   "outputs": [],
   "source": [
    "import re\n",
    "import numpy as np"
   ]
  },
  {
   "cell_type": "code",
   "execution_count": 42,
   "metadata": {},
   "outputs": [],
   "source": [
    "# Open file with source strings\n",
    "text_file = open(\"sentences.txt\", \"r\")"
   ]
  },
  {
   "cell_type": "code",
   "execution_count": null,
   "metadata": {},
   "outputs": [],
   "source": [
    "# Read lines translating it to lower case\n",
    "lines = (x.lower() for x in text_file.readlines())"
   ]
  },
  {
   "cell_type": "code",
   "execution_count": null,
   "metadata": {},
   "outputs": [],
   "source": [
    "# Split sentences via regular expression\n",
    "# Fill dictionary with tokens having key as word \n",
    "# in all sentences and values as index of words\n",
    "words_dict = dict()\n",
    "lines_tokenized = list()\n",
    "for line in lines:\n",
    "    tokens = filter(None, re.split('[^a-z]', line))\n",
    "    lines_tokenized.append(tokens)\n",
    "    \n",
    "    for token in tokens:\n",
    "        if(token not in words_dict):\n",
    "            words_dict[token] = len(words_dict)"
   ]
  },
  {
   "cell_type": "code",
   "execution_count": null,
   "metadata": {},
   "outputs": [],
   "source": [
    "# Fill frequencies matrix where element [i,j] shows how many times word j is in sentence i\n",
    "lines_len = len(lines_tokenized)\n",
    "dict_len = len(words_dict)\n",
    "freq_matrix = np.zeros((lines_len, dict_len))\n",
    "\n",
    "for i in range(lines_len):\n",
    "    line = lines_tokenized[i]\n",
    "    for word in line:\n",
    "        freq_matrix[i, words_dict[word]] += 1"
   ]
  },
  {
   "cell_type": "code",
   "execution_count": 60,
   "metadata": {},
   "outputs": [
    {
     "name": "stdout",
     "output_type": "stream",
     "text": [
      "[0.9527544408738466, 0.8644738145642124, 0.8951715163278082, 0.7770887149698589, 0.9402385695332803, 0.7327387580875756, 0.9258750683338899, 0.8842724875284311, 0.9055088817476932, 0.8328165362273942, 0.8804771390665607, 0.8396432548525454, 0.8703592552895671, 0.8740118423302576, 0.9442721787424647, 0.8406361854220809, 0.956644501523794, 0.9442721787424647, 0.8885443574849294, 0.8427572744917122, 0.8250364469440588]\n"
     ]
    }
   ],
   "source": [
    "# Calculate cosine distances between 0th and all other sentences\n",
    "from scipy.spatial import distance\n",
    "distances = [distance.cosine(freq_matrix[0], x) for x in freq_matrix[1:]]\n",
    "print distances"
   ]
  },
  {
   "cell_type": "code",
   "execution_count": 61,
   "metadata": {},
   "outputs": [
    {
     "name": "stdout",
     "output_type": "stream",
     "text": [
      "6   4\n"
     ]
    }
   ],
   "source": [
    "# Print two most similar to 0th sentences\n",
    "# They should have minimal distances\n",
    "first_index = distances.index(min(distances))\n",
    "distances[first_index] = 2\n",
    "second_index = distances.index(min(distances))\n",
    "print first_index + 1, ' ', second_index + 1"
   ]
  }
 ],
 "metadata": {
  "kernelspec": {
   "display_name": "Python 2",
   "language": "python",
   "name": "python2"
  },
  "language_info": {
   "codemirror_mode": {
    "name": "ipython",
    "version": 2
   },
   "file_extension": ".py",
   "mimetype": "text/x-python",
   "name": "python",
   "nbconvert_exporter": "python",
   "pygments_lexer": "ipython2",
   "version": "2.7.15"
  }
 },
 "nbformat": 4,
 "nbformat_minor": 2
}
